{
 "cells": [
  {
   "cell_type": "code",
   "execution_count": 4,
   "id": "8ab37e41",
   "metadata": {},
   "outputs": [],
   "source": [
    "from pyspark.sql import *"
   ]
  },
  {
   "cell_type": "code",
   "execution_count": 5,
   "id": "515cec6f",
   "metadata": {},
   "outputs": [],
   "source": [
    "spark = SparkSession.builder.appName('SparkName').getOrCreate()"
   ]
  },
  {
   "cell_type": "code",
   "execution_count": null,
   "id": "b270a8b0",
   "metadata": {},
   "outputs": [],
   "source": []
  },
  {
   "cell_type": "code",
   "execution_count": 13,
   "id": "9bbab0ca",
   "metadata": {},
   "outputs": [],
   "source": [
    "books_df = spark.read.option(\"header\", True).option(\"inferSchema\", True).csv(\"../data/books.csv\")"
   ]
  },
  {
   "cell_type": "code",
   "execution_count": 17,
   "id": "d1f93874",
   "metadata": {},
   "outputs": [
    {
     "name": "stdout",
     "output_type": "stream",
     "text": [
      "+----------+--------------------+-----------------+------+------------+\n",
      "|   Book_ID|               Title|           Author| Price|Availability|\n",
      "+----------+--------------------+-----------------+------+------------+\n",
      "|3028129140|  Chionophila Benth.|       Arch Dolle|£77.04|       false|\n",
      "|8027064619|Galium desereticu...|   Goldina Gregor|£72.60|       false|\n",
      "|2018390244|Elymus diversiglu...| Gustaf Duesberry|£98.29|        true|\n",
      "|4849595901| Lophospermum D. Don|    Raleigh Ready|£44.18|       false|\n",
      "| 952975971|Anacamptodon spla...|       Kale Tudge|£78.02|        true|\n",
      "|2620806917|Eucalyptus laevop...|  Read Fernehough|£36.54|        true|\n",
      "| 777307952|Scutellaria tuber...|    Fancie Tonkes|£69.87|       false|\n",
      "|1375750054|Clematis hirsutis...|   Kristan Edgler|£72.19|       false|\n",
      "|5249032672|Rumex obovatus Da...|    Chic Grassick|£92.36|       false|\n",
      "|7626069250|Hedeoma apiculata...|  Aluino Wakerley|£33.58|        true|\n",
      "|8318681959|Hydrophyllum fend...|  Torrey Leishman|£34.97|        true|\n",
      "|6767266647|Stevia plummerae ...|  Cheston Mabbitt|£95.76|       false|\n",
      "|6411079668|Malacothamnus Greene|   Bobby Pruckner|£79.80|       false|\n",
      "|1849834474|Robinia hispida L...| Barrie Perkinson|£63.13|       false|\n",
      "| 550201300|Tournefortia volu...|      Finn Cloney|  null|       false|\n",
      "|2028863749|Alocasia (Schott)...|      Donn Bonnet|£84.86|        true|\n",
      "|2914300522|Tetradium daniell...|Teresita Persicke|£68.60|        true|\n",
      "|7175230427|Jatropha dioica C...|Doralia Graveston|£52.43|        true|\n",
      "|1796868663|Bactris gasipaes ...| Danit Gillebride|£41.77|       false|\n",
      "|8615213038|Caloplaca irrubes...|Hailee Stainfield|£55.95|       false|\n",
      "+----------+--------------------+-----------------+------+------------+\n",
      "only showing top 20 rows\n",
      "\n"
     ]
    }
   ],
   "source": [
    "books_df.show()"
   ]
  },
  {
   "cell_type": "code",
   "execution_count": null,
   "id": "5cc11175",
   "metadata": {},
   "outputs": [],
   "source": []
  }
 ],
 "metadata": {
  "kernelspec": {
   "display_name": "Python 3 (ipykernel)",
   "language": "python",
   "name": "python3"
  },
  "language_info": {
   "codemirror_mode": {
    "name": "ipython",
    "version": 3
   },
   "file_extension": ".py",
   "mimetype": "text/x-python",
   "name": "python",
   "nbconvert_exporter": "python",
   "pygments_lexer": "ipython3",
   "version": "3.9.6"
  }
 },
 "nbformat": 4,
 "nbformat_minor": 5
}
