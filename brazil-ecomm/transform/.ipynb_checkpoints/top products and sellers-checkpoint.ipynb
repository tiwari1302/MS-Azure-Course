{
 "cells": [
  {
   "cell_type": "code",
   "execution_count": 0,
   "metadata": {
    "application/vnd.databricks.v1+cell": {
     "inputWidgets": {},
     "nuid": "e3b2c3fc-1b1f-4afe-8e12-19e4e8f087f1",
     "showTitle": false,
     "title": ""
    }
   },
   "outputs": [
    {
     "data": {
      "text/html": [
       "<style scoped>\n",
       "  .ansiout {\n",
       "    display: block;\n",
       "    unicode-bidi: embed;\n",
       "    white-space: pre-wrap;\n",
       "    word-wrap: break-word;\n",
       "    word-break: break-all;\n",
       "    font-family: \"Source Code Pro\", \"Menlo\", monospace;;\n",
       "    font-size: 13px;\n",
       "    color: #555;\n",
       "    margin-left: 4px;\n",
       "    line-height: 19px;\n",
       "  }\n",
       "</style>\n",
       "<div class=\"ansiout\"></div>"
      ]
     },
     "metadata": {
      "application/vnd.databricks.v1+output": {
       "addedWidgets": {},
       "arguments": {},
       "data": "<div class=\"ansiout\"></div>",
       "datasetInfos": [],
       "metadata": {},
       "removedWidgets": [],
       "type": "html"
      }
     },
     "output_type": "display_data"
    }
   ],
   "source": [
    "from pyspark.sql.functions import to_date, year, month, weekofyear, desc, rank\n",
    "from pyspark.sql.types import DateType, DateConverter"
   ]
  },
  {
   "cell_type": "code",
   "execution_count": 0,
   "metadata": {
    "application/vnd.databricks.v1+cell": {
     "inputWidgets": {},
     "nuid": "148825de-5f59-41b8-98fd-ece08a861a6b",
     "showTitle": false,
     "title": ""
    }
   },
   "outputs": [
    {
     "data": {
      "text/html": [
       "<style scoped>\n",
       "  .ansiout {\n",
       "    display: block;\n",
       "    unicode-bidi: embed;\n",
       "    white-space: pre-wrap;\n",
       "    word-wrap: break-word;\n",
       "    word-break: break-all;\n",
       "    font-family: \"Source Code Pro\", \"Menlo\", monospace;;\n",
       "    font-size: 13px;\n",
       "    color: #555;\n",
       "    margin-left: 4px;\n",
       "    line-height: 19px;\n",
       "  }\n",
       "</style>\n",
       "<div class=\"ansiout\"></div>"
      ]
     },
     "metadata": {
      "application/vnd.databricks.v1+output": {
       "addedWidgets": {},
       "arguments": {},
       "data": "<div class=\"ansiout\"></div>",
       "datasetInfos": [],
       "metadata": {},
       "removedWidgets": [],
       "type": "html"
      }
     },
     "output_type": "display_data"
    },
    {
     "data": {
      "text/html": [
       "<style scoped>\n",
       "  .ansiout {\n",
       "    display: block;\n",
       "    unicode-bidi: embed;\n",
       "    white-space: pre-wrap;\n",
       "    word-wrap: break-word;\n",
       "    word-break: break-all;\n",
       "    font-family: \"Source Code Pro\", \"Menlo\", monospace;;\n",
       "    font-size: 13px;\n",
       "    color: #555;\n",
       "    margin-left: 4px;\n",
       "    line-height: 19px;\n",
       "  }\n",
       "</style>\n",
       "<div class=\"ansiout\"></div>"
      ]
     },
     "metadata": {
      "application/vnd.databricks.v1+output": {
       "addedWidgets": {},
       "arguments": {},
       "data": "<div class=\"ansiout\"></div>",
       "datasetInfos": [],
       "metadata": {},
       "removedWidgets": [],
       "type": "html"
      }
     },
     "output_type": "display_data"
    }
   ],
   "source": [
    "%run \"../includes/configurations\""
   ]
  },
  {
   "cell_type": "markdown",
   "metadata": {
    "application/vnd.databricks.v1+cell": {
     "inputWidgets": {},
     "nuid": "82021383-79d8-4430-8408-aa98d8045ef9",
     "showTitle": false,
     "title": ""
    }
   },
   "source": [
    "#### Ingesting processed data"
   ]
  },
  {
   "cell_type": "code",
   "execution_count": 0,
   "metadata": {
    "application/vnd.databricks.v1+cell": {
     "inputWidgets": {},
     "nuid": "69efcd8d-0fe2-4918-8e7a-0a8f1685e984",
     "showTitle": false,
     "title": ""
    }
   },
   "outputs": [
    {
     "data": {
      "text/html": [
       "<style scoped>\n",
       "  .ansiout {\n",
       "    display: block;\n",
       "    unicode-bidi: embed;\n",
       "    white-space: pre-wrap;\n",
       "    word-wrap: break-word;\n",
       "    word-break: break-all;\n",
       "    font-family: \"Source Code Pro\", \"Menlo\", monospace;;\n",
       "    font-size: 13px;\n",
       "    color: #555;\n",
       "    margin-left: 4px;\n",
       "    line-height: 19px;\n",
       "  }\n",
       "</style>\n",
       "<div class=\"ansiout\"></div>"
      ]
     },
     "metadata": {
      "application/vnd.databricks.v1+output": {
       "addedWidgets": {},
       "arguments": {},
       "data": "<div class=\"ansiout\"></div>",
       "datasetInfos": [],
       "metadata": {},
       "removedWidgets": [],
       "type": "html"
      }
     },
     "output_type": "display_data"
    }
   ],
   "source": [
    "## TABLES: ORDERS AND ORDER ITEMS JOIN ON product_id\n",
    "## TO GET RESULTS BASED ON PRODUCT CATEGORY RATHER THAN product_id WE CAN USE products.csv AS WELL\n",
    "orders_df = spark.read.parquet(f\"{processed_folder_path}/orders\")\n",
    "order_items_df = spark.read.parquet(f\"{processed_folder_path}/order_items\")"
   ]
  },
  {
   "cell_type": "code",
   "execution_count": 0,
   "metadata": {
    "application/vnd.databricks.v1+cell": {
     "inputWidgets": {},
     "nuid": "eb1521b0-e7d1-4fda-bb19-dc7d4179f5ed",
     "showTitle": false,
     "title": ""
    }
   },
   "outputs": [
    {
     "data": {
      "text/html": [
       "<style scoped>\n",
       "  .table-result-container {\n",
       "    max-height: 300px;\n",
       "    overflow: auto;\n",
       "  }\n",
       "  table, th, td {\n",
       "    border: 1px solid black;\n",
       "    border-collapse: collapse;\n",
       "  }\n",
       "  th, td {\n",
       "    padding: 5px;\n",
       "  }\n",
       "  th {\n",
       "    text-align: left;\n",
       "  }\n",
       "</style><div class='table-result-container'><table class='table-result'><thead style='background-color: white'><tr><th>order_id</th><th>customer_id</th><th>order_status</th><th>order_date</th><th>order_delivery_date</th></tr></thead><tbody><tr><td>6ec1bea8cbcef0a1b81bc9b7fbd37ccb</td><td>e6b5e20566e5c72cbaab04f91dec9c85</td><td>delivered</td><td>2018-08-07</td><td>2018-08-27</td></tr><tr><td>441972a5bbd51a10459a487402076942</td><td>b79fa9dfed0c3d624b70fbd0ca2469de</td><td>delivered</td><td>2018-08-23</td><td>2018-08-29</td></tr><tr><td>fbecebecbe32df9dc3411b1e35b5484c</td><td>7f9f88f14a8f0dc733a5e371af98abac</td><td>delivered</td><td>2017-03-20</td><td>2017-03-27</td></tr><tr><td>9e22b00fd1b9f036577e8c517ea0a5d4</td><td>5a7346263920ecab0f88da703bbaf3b1</td><td>delivered</td><td>2017-12-01</td><td>2018-01-03</td></tr><tr><td>07d9d11b0175952638ddd53d7855f8a7</td><td>a1c779cddccf5ffe60e543d3ce0dc477</td><td>delivered</td><td>2017-11-22</td><td>2017-11-30</td></tr></tbody></table></div>"
      ]
     },
     "metadata": {
      "application/vnd.databricks.v1+output": {
       "addedWidgets": {},
       "aggData": [],
       "aggError": "",
       "aggOverflow": false,
       "aggSchema": [],
       "aggSeriesLimitReached": false,
       "aggType": "",
       "arguments": {},
       "columnCustomDisplayInfos": {},
       "data": [
        [
         "6ec1bea8cbcef0a1b81bc9b7fbd37ccb",
         "e6b5e20566e5c72cbaab04f91dec9c85",
         "delivered",
         "2018-08-07",
         "2018-08-27"
        ],
        [
         "441972a5bbd51a10459a487402076942",
         "b79fa9dfed0c3d624b70fbd0ca2469de",
         "delivered",
         "2018-08-23",
         "2018-08-29"
        ],
        [
         "fbecebecbe32df9dc3411b1e35b5484c",
         "7f9f88f14a8f0dc733a5e371af98abac",
         "delivered",
         "2017-03-20",
         "2017-03-27"
        ],
        [
         "9e22b00fd1b9f036577e8c517ea0a5d4",
         "5a7346263920ecab0f88da703bbaf3b1",
         "delivered",
         "2017-12-01",
         "2018-01-03"
        ],
        [
         "07d9d11b0175952638ddd53d7855f8a7",
         "a1c779cddccf5ffe60e543d3ce0dc477",
         "delivered",
         "2017-11-22",
         "2017-11-30"
        ]
       ],
       "datasetInfos": [],
       "dbfsResultPath": null,
       "isJsonSchema": true,
       "metadata": {},
       "overflow": false,
       "plotOptions": {
        "customPlotOptions": {},
        "displayType": "table",
        "pivotAggregation": null,
        "pivotColumns": null,
        "xColumns": null,
        "yColumns": null
       },
       "removedWidgets": [],
       "schema": [
        {
         "metadata": "{}",
         "name": "order_id",
         "type": "\"string\""
        },
        {
         "metadata": "{}",
         "name": "customer_id",
         "type": "\"string\""
        },
        {
         "metadata": "{}",
         "name": "order_status",
         "type": "\"string\""
        },
        {
         "metadata": "{}",
         "name": "order_date",
         "type": "\"date\""
        },
        {
         "metadata": "{}",
         "name": "order_delivery_date",
         "type": "\"date\""
        }
       ],
       "type": "table"
      }
     },
     "output_type": "display_data"
    }
   ],
   "source": [
    "display(orders_df.take(5))"
   ]
  },
  {
   "cell_type": "code",
   "execution_count": 0,
   "metadata": {
    "application/vnd.databricks.v1+cell": {
     "inputWidgets": {},
     "nuid": "827739b2-6ae2-4bd7-98cb-1a085627127d",
     "showTitle": false,
     "title": ""
    }
   },
   "outputs": [
    {
     "data": {
      "text/html": [
       "<style scoped>\n",
       "  .table-result-container {\n",
       "    max-height: 300px;\n",
       "    overflow: auto;\n",
       "  }\n",
       "  table, th, td {\n",
       "    border: 1px solid black;\n",
       "    border-collapse: collapse;\n",
       "  }\n",
       "  th, td {\n",
       "    padding: 5px;\n",
       "  }\n",
       "  th {\n",
       "    text-align: left;\n",
       "  }\n",
       "</style><div class='table-result-container'><table class='table-result'><thead style='background-color: white'><tr><th>order_id</th><th>order_item_id</th><th>product_id</th><th>seller_id</th><th>shipping_limit_date</th><th>price</th></tr></thead><tbody><tr><td>a292ffb436f475f98ec53a05994dbd94</td><td>1</td><td>5f21301936c11698db6aee5444190da0</td><td>fe2032dab1a61af8794248c8196565c9</td><td>2017-06-29T12:23:42.000+0000</td><td>149.9</td></tr><tr><td>a29361cea3ac5ecb55cfc2c64b6c339a</td><td>1</td><td>5a3320037d5922a7708647c81ecc1f15</td><td>b6d44737c043328708f6749c2dbe50bd</td><td>2018-03-01T15:55:27.000+0000</td><td>79.0</td></tr><tr><td>a29361cea3ac5ecb55cfc2c64b6c339a</td><td>2</td><td>7a6aebc4c1205818e64f9275475a73e9</td><td>8bd0f31cf0a614c658f6763bd02dea69</td><td>2018-03-01T15:55:27.000+0000</td><td>199.99</td></tr><tr><td>a2940f1b67316eac4f302e29554392aa</td><td>1</td><td>d0fe4295267f15ccaceac4fb233d8c9a</td><td>0db783cfcd3b73998abc6e10e59a102f</td><td>2017-06-30T16:55:11.000+0000</td><td>49.9</td></tr><tr><td>a2941bd059891a9336409a22149acf24</td><td>1</td><td>0aabfb375647d9738ad0f7b4ea3653b1</td><td>37515688008a7a40ac93e3b2e4ab203f</td><td>2017-11-28T03:06:59.000+0000</td><td>24.5</td></tr></tbody></table></div>"
      ]
     },
     "metadata": {
      "application/vnd.databricks.v1+output": {
       "addedWidgets": {},
       "aggData": [],
       "aggError": "",
       "aggOverflow": false,
       "aggSchema": [],
       "aggSeriesLimitReached": false,
       "aggType": "",
       "arguments": {},
       "columnCustomDisplayInfos": {},
       "data": [
        [
         "a292ffb436f475f98ec53a05994dbd94",
         1,
         "5f21301936c11698db6aee5444190da0",
         "fe2032dab1a61af8794248c8196565c9",
         "2017-06-29T12:23:42.000+0000",
         149.9
        ],
        [
         "a29361cea3ac5ecb55cfc2c64b6c339a",
         1,
         "5a3320037d5922a7708647c81ecc1f15",
         "b6d44737c043328708f6749c2dbe50bd",
         "2018-03-01T15:55:27.000+0000",
         79
        ],
        [
         "a29361cea3ac5ecb55cfc2c64b6c339a",
         2,
         "7a6aebc4c1205818e64f9275475a73e9",
         "8bd0f31cf0a614c658f6763bd02dea69",
         "2018-03-01T15:55:27.000+0000",
         199.99
        ],
        [
         "a2940f1b67316eac4f302e29554392aa",
         1,
         "d0fe4295267f15ccaceac4fb233d8c9a",
         "0db783cfcd3b73998abc6e10e59a102f",
         "2017-06-30T16:55:11.000+0000",
         49.9
        ],
        [
         "a2941bd059891a9336409a22149acf24",
         1,
         "0aabfb375647d9738ad0f7b4ea3653b1",
         "37515688008a7a40ac93e3b2e4ab203f",
         "2017-11-28T03:06:59.000+0000",
         24.5
        ]
       ],
       "datasetInfos": [],
       "dbfsResultPath": null,
       "isJsonSchema": true,
       "metadata": {},
       "overflow": false,
       "plotOptions": {
        "customPlotOptions": {},
        "displayType": "table",
        "pivotAggregation": null,
        "pivotColumns": null,
        "xColumns": null,
        "yColumns": null
       },
       "removedWidgets": [],
       "schema": [
        {
         "metadata": "{}",
         "name": "order_id",
         "type": "\"string\""
        },
        {
         "metadata": "{}",
         "name": "order_item_id",
         "type": "\"long\""
        },
        {
         "metadata": "{}",
         "name": "product_id",
         "type": "\"string\""
        },
        {
         "metadata": "{}",
         "name": "seller_id",
         "type": "\"string\""
        },
        {
         "metadata": "{}",
         "name": "shipping_limit_date",
         "type": "\"timestamp\""
        },
        {
         "metadata": "{}",
         "name": "price",
         "type": "\"double\""
        }
       ],
       "type": "table"
      }
     },
     "output_type": "display_data"
    }
   ],
   "source": [
    "display(order_items_df.take(5))"
   ]
  },
  {
   "cell_type": "code",
   "execution_count": 0,
   "metadata": {
    "application/vnd.databricks.v1+cell": {
     "inputWidgets": {},
     "nuid": "fc22e498-02b3-4e7c-82ac-96bf023e2332",
     "showTitle": false,
     "title": ""
    }
   },
   "outputs": [
    {
     "data": {
      "text/html": [
       "<style scoped>\n",
       "  .ansiout {\n",
       "    display: block;\n",
       "    unicode-bidi: embed;\n",
       "    white-space: pre-wrap;\n",
       "    word-wrap: break-word;\n",
       "    word-break: break-all;\n",
       "    font-family: \"Source Code Pro\", \"Menlo\", monospace;;\n",
       "    font-size: 13px;\n",
       "    color: #555;\n",
       "    margin-left: 4px;\n",
       "    line-height: 19px;\n",
       "  }\n",
       "</style>\n",
       "<div class=\"ansiout\"></div>"
      ]
     },
     "metadata": {
      "application/vnd.databricks.v1+output": {
       "addedWidgets": {},
       "arguments": {},
       "data": "<div class=\"ansiout\"></div>",
       "datasetInfos": [],
       "metadata": {},
       "removedWidgets": [],
       "type": "html"
      }
     },
     "output_type": "display_data"
    }
   ],
   "source": [
    "orders_df.createOrReplaceTempView(\"orders_df_view\")\n",
    "order_items_df.createOrReplaceTempView(\"order_items_df_view\")"
   ]
  },
  {
   "cell_type": "code",
   "execution_count": 0,
   "metadata": {
    "application/vnd.databricks.v1+cell": {
     "inputWidgets": {},
     "nuid": "4ba3816e-eb07-4ef8-bbc8-594987a7605e",
     "showTitle": false,
     "title": ""
    }
   },
   "outputs": [
    {
     "data": {
      "text/html": [
       "<style scoped>\n",
       "  .ansiout {\n",
       "    display: block;\n",
       "    unicode-bidi: embed;\n",
       "    white-space: pre-wrap;\n",
       "    word-wrap: break-word;\n",
       "    word-break: break-all;\n",
       "    font-family: \"Source Code Pro\", \"Menlo\", monospace;;\n",
       "    font-size: 13px;\n",
       "    color: #555;\n",
       "    margin-left: 4px;\n",
       "    line-height: 19px;\n",
       "  }\n",
       "</style>\n",
       "<div class=\"ansiout\"></div>"
      ]
     },
     "metadata": {
      "application/vnd.databricks.v1+output": {
       "addedWidgets": {},
       "arguments": {},
       "data": "<div class=\"ansiout\"></div>",
       "datasetInfos": [],
       "metadata": {},
       "removedWidgets": [],
       "type": "html"
      }
     },
     "output_type": "display_data"
    }
   ],
   "source": [
    "joined_df = spark.sql(\"\"\"\n",
    "SELECT * FROM orders_df_view O1\n",
    "INNER JOIN order_items_df_view O2\n",
    "USING (order_id);\n",
    "\"\"\")"
   ]
  },
  {
   "cell_type": "code",
   "execution_count": 0,
   "metadata": {
    "application/vnd.databricks.v1+cell": {
     "inputWidgets": {},
     "nuid": "ad32cea9-9921-40a6-8698-df148677c3bc",
     "showTitle": false,
     "title": ""
    }
   },
   "outputs": [
    {
     "data": {
      "text/html": [
       "<style scoped>\n",
       "  .ansiout {\n",
       "    display: block;\n",
       "    unicode-bidi: embed;\n",
       "    white-space: pre-wrap;\n",
       "    word-wrap: break-word;\n",
       "    word-break: break-all;\n",
       "    font-family: \"Source Code Pro\", \"Menlo\", monospace;;\n",
       "    font-size: 13px;\n",
       "    color: #555;\n",
       "    margin-left: 4px;\n",
       "    line-height: 19px;\n",
       "  }\n",
       "</style>\n",
       "<div class=\"ansiout\">Out[52]: 112650</div>"
      ]
     },
     "metadata": {
      "application/vnd.databricks.v1+output": {
       "addedWidgets": {},
       "arguments": {},
       "data": "<div class=\"ansiout\">Out[52]: 112650</div>",
       "datasetInfos": [],
       "metadata": {},
       "removedWidgets": [],
       "type": "html"
      }
     },
     "output_type": "display_data"
    }
   ],
   "source": [
    "joined_df.count()"
   ]
  },
  {
   "cell_type": "code",
   "execution_count": 0,
   "metadata": {
    "application/vnd.databricks.v1+cell": {
     "inputWidgets": {},
     "nuid": "75b5ce3b-c20d-43a2-b39a-a5d473b75107",
     "showTitle": false,
     "title": ""
    }
   },
   "outputs": [
    {
     "data": {
      "text/html": [
       "<style scoped>\n",
       "  .table-result-container {\n",
       "    max-height: 300px;\n",
       "    overflow: auto;\n",
       "  }\n",
       "  table, th, td {\n",
       "    border: 1px solid black;\n",
       "    border-collapse: collapse;\n",
       "  }\n",
       "  th, td {\n",
       "    padding: 5px;\n",
       "  }\n",
       "  th {\n",
       "    text-align: left;\n",
       "  }\n",
       "</style><div class='table-result-container'><table class='table-result'><thead style='background-color: white'><tr><th>order_id</th><th>customer_id</th><th>order_status</th><th>order_date</th><th>order_delivery_date</th><th>order_item_id</th><th>product_id</th><th>seller_id</th><th>shipping_limit_date</th><th>price</th></tr></thead><tbody><tr><td>a292ffb436f475f98ec53a05994dbd94</td><td>c08ef557085ca9fb0c59f6d820a0b059</td><td>delivered</td><td>2017-06-25</td><td>2017-07-18</td><td>1</td><td>5f21301936c11698db6aee5444190da0</td><td>fe2032dab1a61af8794248c8196565c9</td><td>2017-06-29T12:23:42.000+0000</td><td>149.9</td></tr><tr><td>a29361cea3ac5ecb55cfc2c64b6c339a</td><td>674a4d874e368f09a9760046e9e4a3e0</td><td>delivered</td><td>2018-02-25</td><td>2018-02-27</td><td>1</td><td>5a3320037d5922a7708647c81ecc1f15</td><td>b6d44737c043328708f6749c2dbe50bd</td><td>2018-03-01T15:55:27.000+0000</td><td>79.0</td></tr><tr><td>a29361cea3ac5ecb55cfc2c64b6c339a</td><td>674a4d874e368f09a9760046e9e4a3e0</td><td>delivered</td><td>2018-02-25</td><td>2018-02-27</td><td>2</td><td>7a6aebc4c1205818e64f9275475a73e9</td><td>8bd0f31cf0a614c658f6763bd02dea69</td><td>2018-03-01T15:55:27.000+0000</td><td>199.99</td></tr><tr><td>a2940f1b67316eac4f302e29554392aa</td><td>cf6e2b8a22d2788c9b3e26b2a276a065</td><td>delivered</td><td>2017-06-26</td><td>2017-07-03</td><td>1</td><td>d0fe4295267f15ccaceac4fb233d8c9a</td><td>0db783cfcd3b73998abc6e10e59a102f</td><td>2017-06-30T16:55:11.000+0000</td><td>49.9</td></tr><tr><td>a2941bd059891a9336409a22149acf24</td><td>4ac22b1186fc5ac2711abbb5ab167f0f</td><td>delivered</td><td>2017-11-21</td><td>2017-12-05</td><td>1</td><td>0aabfb375647d9738ad0f7b4ea3653b1</td><td>37515688008a7a40ac93e3b2e4ab203f</td><td>2017-11-28T03:06:59.000+0000</td><td>24.5</td></tr><tr><td>a294a9571b11828c875657e7ea6d9a9b</td><td>22adc2c76364a3db4bad7f96ff956e4c</td><td>delivered</td><td>2017-10-22</td><td>2017-10-27</td><td>1</td><td>386eebb43722ab502f04f7900bd2451b</td><td>8b28d096634035667e8263d57ba3368c</td><td>2017-10-26T13:56:22.000+0000</td><td>57.9</td></tr><tr><td>a294b359ceeb6b570206ae9a4e266230</td><td>339a385d7c41c652faf8a49b4e645bbf</td><td>delivered</td><td>2017-05-03</td><td>2017-06-01</td><td>1</td><td>ab9cf155f8280c3739b09fe341a185e8</td><td>92eb0f42c21942b6552362b9b114707d</td><td>2017-05-09T21:35:24.000+0000</td><td>13.98</td></tr></tbody></table></div>"
      ]
     },
     "metadata": {
      "application/vnd.databricks.v1+output": {
       "addedWidgets": {},
       "aggData": [],
       "aggError": "",
       "aggOverflow": false,
       "aggSchema": [],
       "aggSeriesLimitReached": false,
       "aggType": "",
       "arguments": {},
       "columnCustomDisplayInfos": {},
       "data": [
        [
         "a292ffb436f475f98ec53a05994dbd94",
         "c08ef557085ca9fb0c59f6d820a0b059",
         "delivered",
         "2017-06-25",
         "2017-07-18",
         1,
         "5f21301936c11698db6aee5444190da0",
         "fe2032dab1a61af8794248c8196565c9",
         "2017-06-29T12:23:42.000+0000",
         149.9
        ],
        [
         "a29361cea3ac5ecb55cfc2c64b6c339a",
         "674a4d874e368f09a9760046e9e4a3e0",
         "delivered",
         "2018-02-25",
         "2018-02-27",
         1,
         "5a3320037d5922a7708647c81ecc1f15",
         "b6d44737c043328708f6749c2dbe50bd",
         "2018-03-01T15:55:27.000+0000",
         79
        ],
        [
         "a29361cea3ac5ecb55cfc2c64b6c339a",
         "674a4d874e368f09a9760046e9e4a3e0",
         "delivered",
         "2018-02-25",
         "2018-02-27",
         2,
         "7a6aebc4c1205818e64f9275475a73e9",
         "8bd0f31cf0a614c658f6763bd02dea69",
         "2018-03-01T15:55:27.000+0000",
         199.99
        ],
        [
         "a2940f1b67316eac4f302e29554392aa",
         "cf6e2b8a22d2788c9b3e26b2a276a065",
         "delivered",
         "2017-06-26",
         "2017-07-03",
         1,
         "d0fe4295267f15ccaceac4fb233d8c9a",
         "0db783cfcd3b73998abc6e10e59a102f",
         "2017-06-30T16:55:11.000+0000",
         49.9
        ],
        [
         "a2941bd059891a9336409a22149acf24",
         "4ac22b1186fc5ac2711abbb5ab167f0f",
         "delivered",
         "2017-11-21",
         "2017-12-05",
         1,
         "0aabfb375647d9738ad0f7b4ea3653b1",
         "37515688008a7a40ac93e3b2e4ab203f",
         "2017-11-28T03:06:59.000+0000",
         24.5
        ],
        [
         "a294a9571b11828c875657e7ea6d9a9b",
         "22adc2c76364a3db4bad7f96ff956e4c",
         "delivered",
         "2017-10-22",
         "2017-10-27",
         1,
         "386eebb43722ab502f04f7900bd2451b",
         "8b28d096634035667e8263d57ba3368c",
         "2017-10-26T13:56:22.000+0000",
         57.9
        ],
        [
         "a294b359ceeb6b570206ae9a4e266230",
         "339a385d7c41c652faf8a49b4e645bbf",
         "delivered",
         "2017-05-03",
         "2017-06-01",
         1,
         "ab9cf155f8280c3739b09fe341a185e8",
         "92eb0f42c21942b6552362b9b114707d",
         "2017-05-09T21:35:24.000+0000",
         13.98
        ]
       ],
       "datasetInfos": [],
       "dbfsResultPath": null,
       "isJsonSchema": true,
       "metadata": {},
       "overflow": false,
       "plotOptions": {
        "customPlotOptions": {},
        "displayType": "table",
        "pivotAggregation": null,
        "pivotColumns": null,
        "xColumns": null,
        "yColumns": null
       },
       "removedWidgets": [],
       "schema": [
        {
         "metadata": "{}",
         "name": "order_id",
         "type": "\"string\""
        },
        {
         "metadata": "{}",
         "name": "customer_id",
         "type": "\"string\""
        },
        {
         "metadata": "{}",
         "name": "order_status",
         "type": "\"string\""
        },
        {
         "metadata": "{}",
         "name": "order_date",
         "type": "\"date\""
        },
        {
         "metadata": "{}",
         "name": "order_delivery_date",
         "type": "\"date\""
        },
        {
         "metadata": "{}",
         "name": "order_item_id",
         "type": "\"long\""
        },
        {
         "metadata": "{}",
         "name": "product_id",
         "type": "\"string\""
        },
        {
         "metadata": "{}",
         "name": "seller_id",
         "type": "\"string\""
        },
        {
         "metadata": "{}",
         "name": "shipping_limit_date",
         "type": "\"timestamp\""
        },
        {
         "metadata": "{}",
         "name": "price",
         "type": "\"double\""
        }
       ],
       "type": "table"
      }
     },
     "output_type": "display_data"
    }
   ],
   "source": [
    "display(joined_df.take(7))"
   ]
  },
  {
   "cell_type": "code",
   "execution_count": 0,
   "metadata": {
    "application/vnd.databricks.v1+cell": {
     "inputWidgets": {},
     "nuid": "54861e36-4086-4925-989e-7d9900b5bfec",
     "showTitle": false,
     "title": ""
    }
   },
   "outputs": [
    {
     "data": {
      "text/html": [
       "<style scoped>\n",
       "  .ansiout {\n",
       "    display: block;\n",
       "    unicode-bidi: embed;\n",
       "    white-space: pre-wrap;\n",
       "    word-wrap: break-word;\n",
       "    word-break: break-all;\n",
       "    font-family: \"Source Code Pro\", \"Menlo\", monospace;;\n",
       "    font-size: 13px;\n",
       "    color: #555;\n",
       "    margin-left: 4px;\n",
       "    line-height: 19px;\n",
       "  }\n",
       "</style>\n",
       "<div class=\"ansiout\"></div>"
      ]
     },
     "metadata": {
      "application/vnd.databricks.v1+output": {
       "addedWidgets": {},
       "arguments": {},
       "data": "<div class=\"ansiout\"></div>",
       "datasetInfos": [],
       "metadata": {},
       "removedWidgets": [],
       "type": "html"
      }
     },
     "output_type": "display_data"
    }
   ],
   "source": [
    "joined_df.createOrReplaceTempView(\"joined_df_view\")"
   ]
  },
  {
   "cell_type": "code",
   "execution_count": 0,
   "metadata": {
    "application/vnd.databricks.v1+cell": {
     "inputWidgets": {},
     "nuid": "66238186-32b2-48a4-93ff-2740650982f6",
     "showTitle": false,
     "title": ""
    }
   },
   "outputs": [
    {
     "data": {
      "text/html": [
       "<style scoped>\n",
       "  .ansiout {\n",
       "    display: block;\n",
       "    unicode-bidi: embed;\n",
       "    white-space: pre-wrap;\n",
       "    word-wrap: break-word;\n",
       "    word-break: break-all;\n",
       "    font-family: \"Source Code Pro\", \"Menlo\", monospace;;\n",
       "    font-size: 13px;\n",
       "    color: #555;\n",
       "    margin-left: 4px;\n",
       "    line-height: 19px;\n",
       "  }\n",
       "</style>\n",
       "<div class=\"ansiout\"></div>"
      ]
     },
     "metadata": {
      "application/vnd.databricks.v1+output": {
       "addedWidgets": {},
       "arguments": {},
       "data": "<div class=\"ansiout\"></div>",
       "datasetInfos": [],
       "metadata": {},
       "removedWidgets": [],
       "type": "html"
      }
     },
     "output_type": "display_data"
    }
   ],
   "source": [
    "top_products = spark.sql(\"\"\"\n",
    "SELECT product_id, year(joined_df_view.order_date) AS order_year, month(joined_df_view.order_date) AS order_month, weekofyear(joined_df_view.order_date) AS order_week, COUNT(product_id) AS pro_count\n",
    "FROM joined_df_view\n",
    "GROUP BY product_id, year(joined_df_view.order_date), month(joined_df_view.order_date), weekofyear(joined_df_view.order_date)\n",
    "ORDER BY 5 desc\n",
    "\"\"\")"
   ]
  },
  {
   "cell_type": "code",
   "execution_count": 0,
   "metadata": {
    "application/vnd.databricks.v1+cell": {
     "inputWidgets": {},
     "nuid": "665b6b77-2910-4ff0-9da2-d5060a5ac02e",
     "showTitle": false,
     "title": ""
    }
   },
   "outputs": [
    {
     "data": {
      "text/html": [
       "<style scoped>\n",
       "  .table-result-container {\n",
       "    max-height: 300px;\n",
       "    overflow: auto;\n",
       "  }\n",
       "  table, th, td {\n",
       "    border: 1px solid black;\n",
       "    border-collapse: collapse;\n",
       "  }\n",
       "  th, td {\n",
       "    padding: 5px;\n",
       "  }\n",
       "  th {\n",
       "    text-align: left;\n",
       "  }\n",
       "</style><div class='table-result-container'><table class='table-result'><thead style='background-color: white'><tr><th>product_id</th><th>order_year</th><th>order_month</th><th>order_week</th><th>pro_count</th></tr></thead><tbody><tr><td>422879e10f46682990de24d770e7f83d</td><td>2017</td><td>11</td><td>47</td><td>59</td></tr><tr><td>53759a2ecddad2bb87a079a1f1519f73</td><td>2017</td><td>11</td><td>47</td><td>56</td></tr><tr><td>53b36df67ebb7c41585e8d54d6772e08</td><td>2018</td><td>5</td><td>19</td><td>53</td></tr><tr><td>53b36df67ebb7c41585e8d54d6772e08</td><td>2018</td><td>5</td><td>18</td><td>53</td></tr><tr><td>e7cc48a9daff5436f63d3aad9426f28b</td><td>2018</td><td>8</td><td>32</td><td>48</td></tr><tr><td>389d119b48cf3043d311335e499d9c6b</td><td>2017</td><td>11</td><td>47</td><td>45</td></tr><tr><td>53b36df67ebb7c41585e8d54d6772e08</td><td>2018</td><td>4</td><td>17</td><td>45</td></tr><tr><td>aca2eb7d00ea1a7b8ebd4e68314663af</td><td>2018</td><td>1</td><td>1</td><td>42</td></tr><tr><td>d285360f29ac7fd97640bf0baef03de0</td><td>2018</td><td>7</td><td>28</td><td>40</td></tr><tr><td>aca2eb7d00ea1a7b8ebd4e68314663af</td><td>2018</td><td>1</td><td>2</td><td>38</td></tr></tbody></table></div>"
      ]
     },
     "metadata": {
      "application/vnd.databricks.v1+output": {
       "addedWidgets": {},
       "aggData": [],
       "aggError": "",
       "aggOverflow": false,
       "aggSchema": [],
       "aggSeriesLimitReached": false,
       "aggType": "",
       "arguments": {},
       "columnCustomDisplayInfos": {},
       "data": [
        [
         "422879e10f46682990de24d770e7f83d",
         2017,
         11,
         47,
         59
        ],
        [
         "53759a2ecddad2bb87a079a1f1519f73",
         2017,
         11,
         47,
         56
        ],
        [
         "53b36df67ebb7c41585e8d54d6772e08",
         2018,
         5,
         19,
         53
        ],
        [
         "53b36df67ebb7c41585e8d54d6772e08",
         2018,
         5,
         18,
         53
        ],
        [
         "e7cc48a9daff5436f63d3aad9426f28b",
         2018,
         8,
         32,
         48
        ],
        [
         "389d119b48cf3043d311335e499d9c6b",
         2017,
         11,
         47,
         45
        ],
        [
         "53b36df67ebb7c41585e8d54d6772e08",
         2018,
         4,
         17,
         45
        ],
        [
         "aca2eb7d00ea1a7b8ebd4e68314663af",
         2018,
         1,
         1,
         42
        ],
        [
         "d285360f29ac7fd97640bf0baef03de0",
         2018,
         7,
         28,
         40
        ],
        [
         "aca2eb7d00ea1a7b8ebd4e68314663af",
         2018,
         1,
         2,
         38
        ]
       ],
       "datasetInfos": [],
       "dbfsResultPath": null,
       "isJsonSchema": true,
       "metadata": {},
       "overflow": false,
       "plotOptions": {
        "customPlotOptions": {},
        "displayType": "table",
        "pivotAggregation": null,
        "pivotColumns": null,
        "xColumns": null,
        "yColumns": null
       },
       "removedWidgets": [],
       "schema": [
        {
         "metadata": "{}",
         "name": "product_id",
         "type": "\"string\""
        },
        {
         "metadata": "{}",
         "name": "order_year",
         "type": "\"long\""
        },
        {
         "metadata": "{}",
         "name": "order_month",
         "type": "\"long\""
        },
        {
         "metadata": "{}",
         "name": "order_week",
         "type": "\"long\""
        },
        {
         "metadata": "{}",
         "name": "pro_count",
         "type": "\"long\""
        }
       ],
       "type": "table"
      }
     },
     "output_type": "display_data"
    }
   ],
   "source": [
    "display(top_products.take(10))"
   ]
  },
  {
   "cell_type": "code",
   "execution_count": 0,
   "metadata": {
    "application/vnd.databricks.v1+cell": {
     "inputWidgets": {},
     "nuid": "65091295-465f-4e74-908d-91110c730f7f",
     "showTitle": false,
     "title": ""
    }
   },
   "outputs": [
    {
     "data": {
      "text/html": [
       "<style scoped>\n",
       "  .ansiout {\n",
       "    display: block;\n",
       "    unicode-bidi: embed;\n",
       "    white-space: pre-wrap;\n",
       "    word-wrap: break-word;\n",
       "    word-break: break-all;\n",
       "    font-family: \"Source Code Pro\", \"Menlo\", monospace;;\n",
       "    font-size: 13px;\n",
       "    color: #555;\n",
       "    margin-left: 4px;\n",
       "    line-height: 19px;\n",
       "  }\n",
       "</style>\n",
       "<div class=\"ansiout\"></div>"
      ]
     },
     "metadata": {
      "application/vnd.databricks.v1+output": {
       "addedWidgets": {},
       "arguments": {},
       "data": "<div class=\"ansiout\"></div>",
       "datasetInfos": [],
       "metadata": {},
       "removedWidgets": [],
       "type": "html"
      }
     },
     "output_type": "display_data"
    }
   ],
   "source": [
    "top_products.createOrReplaceTempView(\"top_products_view\")"
   ]
  },
  {
   "cell_type": "code",
   "execution_count": 0,
   "metadata": {
    "application/vnd.databricks.v1+cell": {
     "inputWidgets": {},
     "nuid": "bc2bea81-d6b5-4670-9e25-cade919eb048",
     "showTitle": false,
     "title": ""
    }
   },
   "outputs": [
    {
     "data": {
      "text/html": [
       "<style scoped>\n",
       "  .ansiout {\n",
       "    display: block;\n",
       "    unicode-bidi: embed;\n",
       "    white-space: pre-wrap;\n",
       "    word-wrap: break-word;\n",
       "    word-break: break-all;\n",
       "    font-family: \"Source Code Pro\", \"Menlo\", monospace;;\n",
       "    font-size: 13px;\n",
       "    color: #555;\n",
       "    margin-left: 4px;\n",
       "    line-height: 19px;\n",
       "  }\n",
       "</style>\n",
       "<div class=\"ansiout\"></div>"
      ]
     },
     "metadata": {
      "application/vnd.databricks.v1+output": {
       "addedWidgets": {},
       "arguments": {},
       "data": "<div class=\"ansiout\"></div>",
       "datasetInfos": [],
       "metadata": {},
       "removedWidgets": [],
       "type": "html"
      }
     },
     "output_type": "display_data"
    }
   ],
   "source": [
    "#top_products_2018 = spark.sql(\"\"\"\n",
    "#SELECT product_id, order_month, order_week, pro_count\n",
    "#FROM top_products_view\n",
    "#WHERE order_year = 2018\n",
    "#GROUP BY product_id, order_month, order_week, pro_count\n",
    "#ORDER BY 4 desc\n",
    "#\"\"\")"
   ]
  },
  {
   "cell_type": "code",
   "execution_count": 0,
   "metadata": {
    "application/vnd.databricks.v1+cell": {
     "inputWidgets": {},
     "nuid": "9f2ae688-728d-4f03-bcdb-1aa5990d3b57",
     "showTitle": false,
     "title": ""
    }
   },
   "outputs": [
    {
     "data": {
      "text/html": [
       "<style scoped>\n",
       "  .ansiout {\n",
       "    display: block;\n",
       "    unicode-bidi: embed;\n",
       "    white-space: pre-wrap;\n",
       "    word-wrap: break-word;\n",
       "    word-break: break-all;\n",
       "    font-family: \"Source Code Pro\", \"Menlo\", monospace;;\n",
       "    font-size: 13px;\n",
       "    color: #555;\n",
       "    margin-left: 4px;\n",
       "    line-height: 19px;\n",
       "  }\n",
       "</style>\n",
       "<div class=\"ansiout\"></div>"
      ]
     },
     "metadata": {
      "application/vnd.databricks.v1+output": {
       "addedWidgets": {},
       "arguments": {},
       "data": "<div class=\"ansiout\"></div>",
       "datasetInfos": [],
       "metadata": {},
       "removedWidgets": [],
       "type": "html"
      }
     },
     "output_type": "display_data"
    }
   ],
   "source": [
    "#display(top_products_2018.take(10))"
   ]
  },
  {
   "cell_type": "code",
   "execution_count": 0,
   "metadata": {
    "application/vnd.databricks.v1+cell": {
     "inputWidgets": {},
     "nuid": "21ef9df0-50d4-4990-806c-a189fe61dd60",
     "showTitle": false,
     "title": ""
    }
   },
   "outputs": [
    {
     "data": {
      "text/html": [
       "<style scoped>\n",
       "  .ansiout {\n",
       "    display: block;\n",
       "    unicode-bidi: embed;\n",
       "    white-space: pre-wrap;\n",
       "    word-wrap: break-word;\n",
       "    word-break: break-all;\n",
       "    font-family: \"Source Code Pro\", \"Menlo\", monospace;;\n",
       "    font-size: 13px;\n",
       "    color: #555;\n",
       "    margin-left: 4px;\n",
       "    line-height: 19px;\n",
       "  }\n",
       "</style>\n",
       "<div class=\"ansiout\"></div>"
      ]
     },
     "metadata": {
      "application/vnd.databricks.v1+output": {
       "addedWidgets": {},
       "arguments": {},
       "data": "<div class=\"ansiout\"></div>",
       "datasetInfos": [],
       "metadata": {},
       "removedWidgets": [],
       "type": "html"
      }
     },
     "output_type": "display_data"
    }
   ],
   "source": [
    "from pyspark.sql.window import Window"
   ]
  },
  {
   "cell_type": "code",
   "execution_count": 0,
   "metadata": {
    "application/vnd.databricks.v1+cell": {
     "inputWidgets": {},
     "nuid": "5b7e64f7-324b-4edc-81c3-13edcfd07fac",
     "showTitle": false,
     "title": ""
    }
   },
   "outputs": [
    {
     "data": {
      "text/html": [
       "<style scoped>\n",
       "  .ansiout {\n",
       "    display: block;\n",
       "    unicode-bidi: embed;\n",
       "    white-space: pre-wrap;\n",
       "    word-wrap: break-word;\n",
       "    word-break: break-all;\n",
       "    font-family: \"Source Code Pro\", \"Menlo\", monospace;;\n",
       "    font-size: 13px;\n",
       "    color: #555;\n",
       "    margin-left: 4px;\n",
       "    line-height: 19px;\n",
       "  }\n",
       "</style>\n",
       "<div class=\"ansiout\"></div>"
      ]
     },
     "metadata": {
      "application/vnd.databricks.v1+output": {
       "addedWidgets": {},
       "arguments": {},
       "data": "<div class=\"ansiout\"></div>",
       "datasetInfos": [],
       "metadata": {},
       "removedWidgets": [],
       "type": "html"
      }
     },
     "output_type": "display_data"
    }
   ],
   "source": [
    "monthlyProdRankSpec = Window.partitionBy(\"order_year\", \"order_month\", \"order_week\").orderBy(desc(\"pro_count\"))\n",
    "top_products = top_products.withColumn(\"rank\", rank().over(monthlyProdRankSpec))"
   ]
  },
  {
   "cell_type": "code",
   "execution_count": 0,
   "metadata": {
    "application/vnd.databricks.v1+cell": {
     "inputWidgets": {},
     "nuid": "52df78b4-94ee-4276-be8e-915cbbfcabbc",
     "showTitle": false,
     "title": ""
    }
   },
   "outputs": [
    {
     "data": {
      "text/html": [
       "<style scoped>\n",
       "  .ansiout {\n",
       "    display: block;\n",
       "    unicode-bidi: embed;\n",
       "    white-space: pre-wrap;\n",
       "    word-wrap: break-word;\n",
       "    word-break: break-all;\n",
       "    font-family: \"Source Code Pro\", \"Menlo\", monospace;;\n",
       "    font-size: 13px;\n",
       "    color: #555;\n",
       "    margin-left: 4px;\n",
       "    line-height: 19px;\n",
       "  }\n",
       "</style>\n",
       "<div class=\"ansiout\">Out[62]: 80446</div>"
      ]
     },
     "metadata": {
      "application/vnd.databricks.v1+output": {
       "addedWidgets": {},
       "arguments": {},
       "data": "<div class=\"ansiout\">Out[62]: 80446</div>",
       "datasetInfos": [],
       "metadata": {},
       "removedWidgets": [],
       "type": "html"
      }
     },
     "output_type": "display_data"
    }
   ],
   "source": [
    "top_products.count()"
   ]
  },
  {
   "cell_type": "code",
   "execution_count": 0,
   "metadata": {
    "application/vnd.databricks.v1+cell": {
     "inputWidgets": {},
     "nuid": "dc5fe74a-1348-40aa-9fce-62ef3361cb86",
     "showTitle": false,
     "title": ""
    }
   },
   "outputs": [
    {
     "data": {
      "text/html": [
       "<style scoped>\n",
       "  .table-result-container {\n",
       "    max-height: 300px;\n",
       "    overflow: auto;\n",
       "  }\n",
       "  table, th, td {\n",
       "    border: 1px solid black;\n",
       "    border-collapse: collapse;\n",
       "  }\n",
       "  th, td {\n",
       "    padding: 5px;\n",
       "  }\n",
       "  th {\n",
       "    text-align: left;\n",
       "  }\n",
       "</style><div class='table-result-container'><table class='table-result'><thead style='background-color: white'><tr><th>product_id</th><th>order_year</th><th>order_month</th><th>order_week</th><th>pro_count</th><th>rank</th></tr></thead><tbody><tr><td>f3c2d01a84c947b078e32bbef0718962</td><td>2016</td><td>9</td><td>36</td><td>1</td><td>1</td></tr><tr><td>bdcec8e22b04a8f4241d87bcfe9ea877</td><td>2016</td><td>10</td><td>41</td><td>3</td><td>1</td></tr><tr><td>6d2928252aa5ba6a5fc439571dd0d748</td><td>2016</td><td>10</td><td>41</td><td>2</td><td>2</td></tr><tr><td>79938780eb7ffb7289f59a9a283bc06b</td><td>2016</td><td>10</td><td>41</td><td>2</td><td>2</td></tr><tr><td>c1488892604e4ba5cff5b4eb4d595400</td><td>2016</td><td>10</td><td>41</td><td>1</td><td>4</td></tr><tr><td>f27f3e8b4b3836e4d6cd756dfb83e750</td><td>2016</td><td>10</td><td>41</td><td>1</td><td>4</td></tr><tr><td>f9bcf9d8e89d012d7dc24fe4de0abd80</td><td>2016</td><td>10</td><td>41</td><td>1</td><td>4</td></tr><tr><td>f436a5130457df6b73cdb2c12a90ea2b</td><td>2016</td><td>10</td><td>41</td><td>1</td><td>4</td></tr><tr><td>afad7a4420a4348d41da23ed8d0902dd</td><td>2016</td><td>10</td><td>41</td><td>1</td><td>4</td></tr><tr><td>44377a26f7c80dbf0a9b2b300604e6bf</td><td>2016</td><td>10</td><td>41</td><td>1</td><td>4</td></tr></tbody></table></div>"
      ]
     },
     "metadata": {
      "application/vnd.databricks.v1+output": {
       "addedWidgets": {},
       "aggData": [],
       "aggError": "",
       "aggOverflow": false,
       "aggSchema": [],
       "aggSeriesLimitReached": false,
       "aggType": "",
       "arguments": {},
       "columnCustomDisplayInfos": {},
       "data": [
        [
         "f3c2d01a84c947b078e32bbef0718962",
         2016,
         9,
         36,
         1,
         1
        ],
        [
         "bdcec8e22b04a8f4241d87bcfe9ea877",
         2016,
         10,
         41,
         3,
         1
        ],
        [
         "6d2928252aa5ba6a5fc439571dd0d748",
         2016,
         10,
         41,
         2,
         2
        ],
        [
         "79938780eb7ffb7289f59a9a283bc06b",
         2016,
         10,
         41,
         2,
         2
        ],
        [
         "c1488892604e4ba5cff5b4eb4d595400",
         2016,
         10,
         41,
         1,
         4
        ],
        [
         "f27f3e8b4b3836e4d6cd756dfb83e750",
         2016,
         10,
         41,
         1,
         4
        ],
        [
         "f9bcf9d8e89d012d7dc24fe4de0abd80",
         2016,
         10,
         41,
         1,
         4
        ],
        [
         "f436a5130457df6b73cdb2c12a90ea2b",
         2016,
         10,
         41,
         1,
         4
        ],
        [
         "afad7a4420a4348d41da23ed8d0902dd",
         2016,
         10,
         41,
         1,
         4
        ],
        [
         "44377a26f7c80dbf0a9b2b300604e6bf",
         2016,
         10,
         41,
         1,
         4
        ]
       ],
       "datasetInfos": [],
       "dbfsResultPath": null,
       "isJsonSchema": true,
       "metadata": {},
       "overflow": false,
       "plotOptions": {
        "customPlotOptions": {},
        "displayType": "table",
        "pivotAggregation": null,
        "pivotColumns": null,
        "xColumns": null,
        "yColumns": null
       },
       "removedWidgets": [],
       "schema": [
        {
         "metadata": "{}",
         "name": "product_id",
         "type": "\"string\""
        },
        {
         "metadata": "{}",
         "name": "order_year",
         "type": "\"long\""
        },
        {
         "metadata": "{}",
         "name": "order_month",
         "type": "\"long\""
        },
        {
         "metadata": "{}",
         "name": "order_week",
         "type": "\"long\""
        },
        {
         "metadata": "{}",
         "name": "pro_count",
         "type": "\"long\""
        },
        {
         "metadata": "{}",
         "name": "rank",
         "type": "\"long\""
        }
       ],
       "type": "table"
      }
     },
     "output_type": "display_data"
    }
   ],
   "source": [
    "display(top_products.take(10))"
   ]
  },
  {
   "cell_type": "code",
   "execution_count": 0,
   "metadata": {
    "application/vnd.databricks.v1+cell": {
     "inputWidgets": {},
     "nuid": "26f00eb6-c8cf-42a3-b8f9-3ce6ea92b7a0",
     "showTitle": false,
     "title": ""
    }
   },
   "outputs": [
    {
     "data": {
      "text/html": [
       "<style scoped>\n",
       "  .ansiout {\n",
       "    display: block;\n",
       "    unicode-bidi: embed;\n",
       "    white-space: pre-wrap;\n",
       "    word-wrap: break-word;\n",
       "    word-break: break-all;\n",
       "    font-family: \"Source Code Pro\", \"Menlo\", monospace;;\n",
       "    font-size: 13px;\n",
       "    color: #555;\n",
       "    margin-left: 4px;\n",
       "    line-height: 19px;\n",
       "  }\n",
       "</style>\n",
       "<div class=\"ansiout\"></div>"
      ]
     },
     "metadata": {
      "application/vnd.databricks.v1+output": {
       "addedWidgets": {},
       "arguments": {},
       "data": "<div class=\"ansiout\"></div>",
       "datasetInfos": [],
       "metadata": {},
       "removedWidgets": [],
       "type": "html"
      }
     },
     "output_type": "display_data"
    }
   ],
   "source": [
    "top_products.createOrReplaceTempView(\"top_products_view\")"
   ]
  },
  {
   "cell_type": "code",
   "execution_count": 0,
   "metadata": {
    "application/vnd.databricks.v1+cell": {
     "inputWidgets": {},
     "nuid": "9dbf5f69-c916-40c1-9fbf-48592bcabedc",
     "showTitle": false,
     "title": ""
    }
   },
   "outputs": [
    {
     "data": {
      "text/html": [
       "<style scoped>\n",
       "  .table-result-container {\n",
       "    max-height: 300px;\n",
       "    overflow: auto;\n",
       "  }\n",
       "  table, th, td {\n",
       "    border: 1px solid black;\n",
       "    border-collapse: collapse;\n",
       "  }\n",
       "  th, td {\n",
       "    padding: 5px;\n",
       "  }\n",
       "  th {\n",
       "    text-align: left;\n",
       "  }\n",
       "</style><div class='table-result-container'><table class='table-result'><thead style='background-color: white'><tr><th>product_id</th><th>order_year</th><th>order_month</th><th>order_week</th><th>pro_count</th><th>rank</th></tr></thead><tbody><tr><td>f3c2d01a84c947b078e32bbef0718962</td><td>2016</td><td>9</td><td>36</td><td>1</td><td>1</td></tr><tr><td>bdcec8e22b04a8f4241d87bcfe9ea877</td><td>2016</td><td>10</td><td>41</td><td>3</td><td>1</td></tr><tr><td>6d2928252aa5ba6a5fc439571dd0d748</td><td>2016</td><td>10</td><td>41</td><td>2</td><td>2</td></tr><tr><td>79938780eb7ffb7289f59a9a283bc06b</td><td>2016</td><td>10</td><td>41</td><td>2</td><td>2</td></tr><tr><td>f5d8f4fbc70ca2a0038b9a0010ed5cb0</td><td>2016</td><td>12</td><td>51</td><td>1</td><td>1</td></tr><tr><td>4a90b44b456e79e7a33435fdd36e551f</td><td>2017</td><td>1</td><td>2</td><td>9</td><td>1</td></tr><tr><td>c1488892604e4ba5cff5b4eb4d595400</td><td>2017</td><td>1</td><td>2</td><td>3</td><td>2</td></tr><tr><td>fe7976532777922f0d60261e75f7ad36</td><td>2017</td><td>1</td><td>2</td><td>3</td><td>2</td></tr><tr><td>16ce899c7af0c99f46948734a0d00f0f</td><td>2017</td><td>1</td><td>3</td><td>9</td><td>1</td></tr><tr><td>5445335704bf8a32827f3bf6b9701ed9</td><td>2017</td><td>1</td><td>3</td><td>5</td><td>2</td></tr></tbody></table></div>"
      ]
     },
     "metadata": {
      "application/vnd.databricks.v1+output": {
       "addedWidgets": {},
       "aggData": [],
       "aggError": "",
       "aggOverflow": false,
       "aggSchema": [],
       "aggSeriesLimitReached": false,
       "aggType": "",
       "arguments": {},
       "columnCustomDisplayInfos": {},
       "data": [
        [
         "f3c2d01a84c947b078e32bbef0718962",
         2016,
         9,
         36,
         1,
         1
        ],
        [
         "bdcec8e22b04a8f4241d87bcfe9ea877",
         2016,
         10,
         41,
         3,
         1
        ],
        [
         "6d2928252aa5ba6a5fc439571dd0d748",
         2016,
         10,
         41,
         2,
         2
        ],
        [
         "79938780eb7ffb7289f59a9a283bc06b",
         2016,
         10,
         41,
         2,
         2
        ],
        [
         "f5d8f4fbc70ca2a0038b9a0010ed5cb0",
         2016,
         12,
         51,
         1,
         1
        ],
        [
         "4a90b44b456e79e7a33435fdd36e551f",
         2017,
         1,
         2,
         9,
         1
        ],
        [
         "c1488892604e4ba5cff5b4eb4d595400",
         2017,
         1,
         2,
         3,
         2
        ],
        [
         "fe7976532777922f0d60261e75f7ad36",
         2017,
         1,
         2,
         3,
         2
        ],
        [
         "16ce899c7af0c99f46948734a0d00f0f",
         2017,
         1,
         3,
         9,
         1
        ],
        [
         "5445335704bf8a32827f3bf6b9701ed9",
         2017,
         1,
         3,
         5,
         2
        ]
       ],
       "datasetInfos": [],
       "dbfsResultPath": null,
       "isJsonSchema": true,
       "metadata": {},
       "overflow": false,
       "plotOptions": {
        "customPlotOptions": {},
        "displayType": "table",
        "pivotAggregation": null,
        "pivotColumns": null,
        "xColumns": null,
        "yColumns": null
       },
       "removedWidgets": [],
       "schema": [
        {
         "metadata": "{}",
         "name": "product_id",
         "type": "\"string\""
        },
        {
         "metadata": "{}",
         "name": "order_year",
         "type": "\"integer\""
        },
        {
         "metadata": "{}",
         "name": "order_month",
         "type": "\"integer\""
        },
        {
         "metadata": "{}",
         "name": "order_week",
         "type": "\"integer\""
        },
        {
         "metadata": "{}",
         "name": "pro_count",
         "type": "\"long\""
        },
        {
         "metadata": "{}",
         "name": "rank",
         "type": "\"integer\""
        }
       ],
       "type": "table"
      }
     },
     "output_type": "display_data"
    }
   ],
   "source": [
    "%sql\n",
    "SELECT * FROM top_products_view\n",
    "WHERE rank<4\n",
    "LIMIT 10"
   ]
  },
  {
   "cell_type": "code",
   "execution_count": 0,
   "metadata": {
    "application/vnd.databricks.v1+cell": {
     "inputWidgets": {},
     "nuid": "6bc09517-0bf6-488a-9ff4-45507985b6f7",
     "showTitle": false,
     "title": ""
    }
   },
   "outputs": [],
   "source": []
  },
  {
   "cell_type": "markdown",
   "metadata": {
    "application/vnd.databricks.v1+cell": {
     "inputWidgets": {},
     "nuid": "6efd0325-d8f1-4248-bdcb-6fb7acafc3be",
     "showTitle": false,
     "title": ""
    }
   },
   "source": [
    "### identifying top sellers"
   ]
  },
  {
   "cell_type": "code",
   "execution_count": 0,
   "metadata": {
    "application/vnd.databricks.v1+cell": {
     "inputWidgets": {},
     "nuid": "11e06e78-0e8c-4651-9aa8-6ccedfbee0b0",
     "showTitle": false,
     "title": ""
    }
   },
   "outputs": [
    {
     "data": {
      "text/html": [
       "<style scoped>\n",
       "  .ansiout {\n",
       "    display: block;\n",
       "    unicode-bidi: embed;\n",
       "    white-space: pre-wrap;\n",
       "    word-wrap: break-word;\n",
       "    word-break: break-all;\n",
       "    font-family: \"Source Code Pro\", \"Menlo\", monospace;;\n",
       "    font-size: 13px;\n",
       "    color: #555;\n",
       "    margin-left: 4px;\n",
       "    line-height: 19px;\n",
       "  }\n",
       "</style>\n",
       "<div class=\"ansiout\"></div>"
      ]
     },
     "metadata": {
      "application/vnd.databricks.v1+output": {
       "addedWidgets": {},
       "arguments": {},
       "data": "<div class=\"ansiout\"></div>",
       "datasetInfos": [],
       "metadata": {},
       "removedWidgets": [],
       "type": "html"
      }
     },
     "output_type": "display_data"
    }
   ],
   "source": [
    "top_sellers_yearwise = spark.sql(\"\"\"\n",
    "SELECT seller_id, year(joined_df_view.order_date) AS order_year, month(joined_df_view.order_date) AS order_month, weekofyear(joined_df_view.order_date) AS order_week, COUNT(*) AS sell_count\n",
    "FROM joined_df_view\n",
    "GROUP BY seller_id, year(joined_df_view.order_date), month(joined_df_view.order_date), weekofyear(joined_df_view.order_date)\n",
    "ORDER BY 2 desc, 3 desc, 4 desc\n",
    "\"\"\")"
   ]
  },
  {
   "cell_type": "code",
   "execution_count": 0,
   "metadata": {
    "application/vnd.databricks.v1+cell": {
     "inputWidgets": {},
     "nuid": "2872fe74-16fa-455d-915a-82e51bca19f1",
     "showTitle": false,
     "title": ""
    }
   },
   "outputs": [
    {
     "data": {
      "text/html": [
       "<style scoped>\n",
       "  .table-result-container {\n",
       "    max-height: 300px;\n",
       "    overflow: auto;\n",
       "  }\n",
       "  table, th, td {\n",
       "    border: 1px solid black;\n",
       "    border-collapse: collapse;\n",
       "  }\n",
       "  th, td {\n",
       "    padding: 5px;\n",
       "  }\n",
       "  th {\n",
       "    text-align: left;\n",
       "  }\n",
       "</style><div class='table-result-container'><table class='table-result'><thead style='background-color: white'><tr><th>seller_id</th><th>order_year</th><th>order_month</th><th>order_week</th><th>sell_count</th></tr></thead><tbody><tr><td>25be943a321c8938947bdaabca979a90</td><td>2018</td><td>9</td><td>36</td><td>1</td></tr><tr><td>508808d438fe2ff972ed13bb8f4a82e2</td><td>2018</td><td>8</td><td>35</td><td>2</td></tr><tr><td>33a6f4b1e7cdc205511e76ba1b6e0186</td><td>2018</td><td>8</td><td>35</td><td>1</td></tr><tr><td>fd386aa7bed2af3c7035c65506c9b4a3</td><td>2018</td><td>8</td><td>35</td><td>3</td></tr><tr><td>f0b47fbbc6dee9aafe415a6e33051b3f</td><td>2018</td><td>8</td><td>35</td><td>1</td></tr><tr><td>2c9e548be18521d1c43cde1c582c6de8</td><td>2018</td><td>8</td><td>35</td><td>1</td></tr><tr><td>6560211a19b47992c3666cc44a7e94c0</td><td>2018</td><td>8</td><td>35</td><td>4</td></tr></tbody></table></div>"
      ]
     },
     "metadata": {
      "application/vnd.databricks.v1+output": {
       "addedWidgets": {},
       "aggData": [],
       "aggError": "",
       "aggOverflow": false,
       "aggSchema": [],
       "aggSeriesLimitReached": false,
       "aggType": "",
       "arguments": {},
       "columnCustomDisplayInfos": {},
       "data": [
        [
         "25be943a321c8938947bdaabca979a90",
         2018,
         9,
         36,
         1
        ],
        [
         "508808d438fe2ff972ed13bb8f4a82e2",
         2018,
         8,
         35,
         2
        ],
        [
         "33a6f4b1e7cdc205511e76ba1b6e0186",
         2018,
         8,
         35,
         1
        ],
        [
         "fd386aa7bed2af3c7035c65506c9b4a3",
         2018,
         8,
         35,
         3
        ],
        [
         "f0b47fbbc6dee9aafe415a6e33051b3f",
         2018,
         8,
         35,
         1
        ],
        [
         "2c9e548be18521d1c43cde1c582c6de8",
         2018,
         8,
         35,
         1
        ],
        [
         "6560211a19b47992c3666cc44a7e94c0",
         2018,
         8,
         35,
         4
        ]
       ],
       "datasetInfos": [],
       "dbfsResultPath": null,
       "isJsonSchema": true,
       "metadata": {},
       "overflow": false,
       "plotOptions": {
        "customPlotOptions": {},
        "displayType": "table",
        "pivotAggregation": null,
        "pivotColumns": null,
        "xColumns": null,
        "yColumns": null
       },
       "removedWidgets": [],
       "schema": [
        {
         "metadata": "{}",
         "name": "seller_id",
         "type": "\"string\""
        },
        {
         "metadata": "{}",
         "name": "order_year",
         "type": "\"long\""
        },
        {
         "metadata": "{}",
         "name": "order_month",
         "type": "\"long\""
        },
        {
         "metadata": "{}",
         "name": "order_week",
         "type": "\"long\""
        },
        {
         "metadata": "{}",
         "name": "sell_count",
         "type": "\"long\""
        }
       ],
       "type": "table"
      }
     },
     "output_type": "display_data"
    },
    {
     "data": {
      "text/html": [
       "<style scoped>\n",
       "  .ansiout {\n",
       "    display: block;\n",
       "    unicode-bidi: embed;\n",
       "    white-space: pre-wrap;\n",
       "    word-wrap: break-word;\n",
       "    word-break: break-all;\n",
       "    font-family: \"Source Code Pro\", \"Menlo\", monospace;;\n",
       "    font-size: 13px;\n",
       "    color: #555;\n",
       "    margin-left: 4px;\n",
       "    line-height: 19px;\n",
       "  }\n",
       "</style>\n",
       "<div class=\"ansiout\">Out[66]: 38094</div>"
      ]
     },
     "metadata": {
      "application/vnd.databricks.v1+output": {
       "addedWidgets": {},
       "arguments": {},
       "data": "<div class=\"ansiout\">Out[66]: 38094</div>",
       "datasetInfos": [],
       "metadata": {},
       "removedWidgets": [],
       "type": "html"
      }
     },
     "output_type": "display_data"
    }
   ],
   "source": [
    "display(top_sellers_yearwise.take(7))\n",
    "top_sellers_yearwise.count()"
   ]
  },
  {
   "cell_type": "code",
   "execution_count": 0,
   "metadata": {
    "application/vnd.databricks.v1+cell": {
     "inputWidgets": {},
     "nuid": "ecf04947-9674-43be-a84b-d207acc9be26",
     "showTitle": false,
     "title": ""
    }
   },
   "outputs": [
    {
     "data": {
      "text/html": [
       "<style scoped>\n",
       "  .ansiout {\n",
       "    display: block;\n",
       "    unicode-bidi: embed;\n",
       "    white-space: pre-wrap;\n",
       "    word-wrap: break-word;\n",
       "    word-break: break-all;\n",
       "    font-family: \"Source Code Pro\", \"Menlo\", monospace;;\n",
       "    font-size: 13px;\n",
       "    color: #555;\n",
       "    margin-left: 4px;\n",
       "    line-height: 19px;\n",
       "  }\n",
       "</style>\n",
       "<div class=\"ansiout\"></div>"
      ]
     },
     "metadata": {
      "application/vnd.databricks.v1+output": {
       "addedWidgets": {},
       "arguments": {},
       "data": "<div class=\"ansiout\"></div>",
       "datasetInfos": [],
       "metadata": {},
       "removedWidgets": [],
       "type": "html"
      }
     },
     "output_type": "display_data"
    }
   ],
   "source": [
    "top_sellers_yearwise.createOrReplaceTempView(\"top_sellers_yearwise_view\")"
   ]
  },
  {
   "cell_type": "code",
   "execution_count": 0,
   "metadata": {
    "application/vnd.databricks.v1+cell": {
     "inputWidgets": {},
     "nuid": "ed0d8c28-b466-4e11-87a2-b6e50bd046aa",
     "showTitle": false,
     "title": ""
    }
   },
   "outputs": [
    {
     "data": {
      "text/html": [
       "<style scoped>\n",
       "  .ansiout {\n",
       "    display: block;\n",
       "    unicode-bidi: embed;\n",
       "    white-space: pre-wrap;\n",
       "    word-wrap: break-word;\n",
       "    word-break: break-all;\n",
       "    font-family: \"Source Code Pro\", \"Menlo\", monospace;;\n",
       "    font-size: 13px;\n",
       "    color: #555;\n",
       "    margin-left: 4px;\n",
       "    line-height: 19px;\n",
       "  }\n",
       "</style>\n",
       "<div class=\"ansiout\"></div>"
      ]
     },
     "metadata": {
      "application/vnd.databricks.v1+output": {
       "addedWidgets": {},
       "arguments": {},
       "data": "<div class=\"ansiout\"></div>",
       "datasetInfos": [],
       "metadata": {},
       "removedWidgets": [],
       "type": "html"
      }
     },
     "output_type": "display_data"
    }
   ],
   "source": [
    "top_sellers_2018 = spark.sql(\"\"\"\n",
    "SELECT seller_id, order_month, order_week, sell_count\n",
    "FROM top_sellers_yearwise_view\n",
    "WHERE order_year = 2018\n",
    "GROUP BY seller_id, order_month, order_week, sell_count\n",
    "ORDER BY 4 desc\n",
    "\"\"\")"
   ]
  },
  {
   "cell_type": "code",
   "execution_count": 0,
   "metadata": {
    "application/vnd.databricks.v1+cell": {
     "inputWidgets": {},
     "nuid": "0904a30d-7977-40d1-907c-37a7aacaa12a",
     "showTitle": false,
     "title": ""
    }
   },
   "outputs": [
    {
     "data": {
      "text/html": [
       "<style scoped>\n",
       "  .table-result-container {\n",
       "    max-height: 300px;\n",
       "    overflow: auto;\n",
       "  }\n",
       "  table, th, td {\n",
       "    border: 1px solid black;\n",
       "    border-collapse: collapse;\n",
       "  }\n",
       "  th, td {\n",
       "    padding: 5px;\n",
       "  }\n",
       "  th {\n",
       "    text-align: left;\n",
       "  }\n",
       "</style><div class='table-result-container'><table class='table-result'><thead style='background-color: white'><tr><th>seller_id</th><th>order_month</th><th>order_week</th><th>sell_count</th></tr></thead><tbody><tr><td>7d13fca15225358621be4086e1eb0964</td><td>5</td><td>19</td><td>109</td></tr><tr><td>955fee9216a65b617aa5c0531780ce60</td><td>1</td><td>3</td><td>86</td></tr><tr><td>7d13fca15225358621be4086e1eb0964</td><td>5</td><td>18</td><td>83</td></tr><tr><td>955fee9216a65b617aa5c0531780ce60</td><td>5</td><td>20</td><td>79</td></tr><tr><td>955fee9216a65b617aa5c0531780ce60</td><td>4</td><td>17</td><td>78</td></tr><tr><td>3d871de0142ce09b7081e2b9d1733cb1</td><td>1</td><td>2</td><td>77</td></tr><tr><td>955fee9216a65b617aa5c0531780ce60</td><td>1</td><td>2</td><td>75</td></tr><tr><td>955fee9216a65b617aa5c0531780ce60</td><td>5</td><td>19</td><td>66</td></tr><tr><td>1f50f920176fa81dab994f9023523100</td><td>2</td><td>7</td><td>65</td></tr><tr><td>6560211a19b47992c3666cc44a7e94c0</td><td>7</td><td>30</td><td>65</td></tr></tbody></table></div>"
      ]
     },
     "metadata": {
      "application/vnd.databricks.v1+output": {
       "addedWidgets": {},
       "aggData": [],
       "aggError": "",
       "aggOverflow": false,
       "aggSchema": [],
       "aggSeriesLimitReached": false,
       "aggType": "",
       "arguments": {},
       "columnCustomDisplayInfos": {},
       "data": [
        [
         "7d13fca15225358621be4086e1eb0964",
         5,
         19,
         109
        ],
        [
         "955fee9216a65b617aa5c0531780ce60",
         1,
         3,
         86
        ],
        [
         "7d13fca15225358621be4086e1eb0964",
         5,
         18,
         83
        ],
        [
         "955fee9216a65b617aa5c0531780ce60",
         5,
         20,
         79
        ],
        [
         "955fee9216a65b617aa5c0531780ce60",
         4,
         17,
         78
        ],
        [
         "3d871de0142ce09b7081e2b9d1733cb1",
         1,
         2,
         77
        ],
        [
         "955fee9216a65b617aa5c0531780ce60",
         1,
         2,
         75
        ],
        [
         "955fee9216a65b617aa5c0531780ce60",
         5,
         19,
         66
        ],
        [
         "1f50f920176fa81dab994f9023523100",
         2,
         7,
         65
        ],
        [
         "6560211a19b47992c3666cc44a7e94c0",
         7,
         30,
         65
        ]
       ],
       "datasetInfos": [],
       "dbfsResultPath": null,
       "isJsonSchema": true,
       "metadata": {},
       "overflow": false,
       "plotOptions": {
        "customPlotOptions": {},
        "displayType": "table",
        "pivotAggregation": null,
        "pivotColumns": null,
        "xColumns": null,
        "yColumns": null
       },
       "removedWidgets": [],
       "schema": [
        {
         "metadata": "{}",
         "name": "seller_id",
         "type": "\"string\""
        },
        {
         "metadata": "{}",
         "name": "order_month",
         "type": "\"long\""
        },
        {
         "metadata": "{}",
         "name": "order_week",
         "type": "\"long\""
        },
        {
         "metadata": "{}",
         "name": "sell_count",
         "type": "\"long\""
        }
       ],
       "type": "table"
      }
     },
     "output_type": "display_data"
    }
   ],
   "source": [
    "display(top_sellers_2018.take(10))"
   ]
  },
  {
   "cell_type": "code",
   "execution_count": 0,
   "metadata": {
    "application/vnd.databricks.v1+cell": {
     "inputWidgets": {},
     "nuid": "e47d4605-65e7-4e50-b1fb-4c37d8dc3553",
     "showTitle": false,
     "title": ""
    }
   },
   "outputs": [
    {
     "data": {
      "text/html": [
       "<style scoped>\n",
       "  .ansiout {\n",
       "    display: block;\n",
       "    unicode-bidi: embed;\n",
       "    white-space: pre-wrap;\n",
       "    word-wrap: break-word;\n",
       "    word-break: break-all;\n",
       "    font-family: \"Source Code Pro\", \"Menlo\", monospace;;\n",
       "    font-size: 13px;\n",
       "    color: #555;\n",
       "    margin-left: 4px;\n",
       "    line-height: 19px;\n",
       "  }\n",
       "</style>\n",
       "<div class=\"ansiout\"></div>"
      ]
     },
     "metadata": {
      "application/vnd.databricks.v1+output": {
       "addedWidgets": {},
       "arguments": {},
       "data": "<div class=\"ansiout\"></div>",
       "datasetInfos": [],
       "metadata": {},
       "removedWidgets": [],
       "type": "html"
      }
     },
     "output_type": "display_data"
    }
   ],
   "source": [
    "sellerRankSpec = Window.partitionBy(\"order_month\", \"order_week\").orderBy(desc(\"sell_count\"))\n",
    "top_sellers_2018 = top_sellers_2018.withColumn(\"rank\", rank().over(sellerRankSpec))"
   ]
  },
  {
   "cell_type": "code",
   "execution_count": 0,
   "metadata": {
    "application/vnd.databricks.v1+cell": {
     "inputWidgets": {},
     "nuid": "ac5ecd6c-2726-4bb6-a0e0-d2553e1bc327",
     "showTitle": false,
     "title": ""
    }
   },
   "outputs": [
    {
     "data": {
      "text/html": [
       "<style scoped>\n",
       "  .table-result-container {\n",
       "    max-height: 300px;\n",
       "    overflow: auto;\n",
       "  }\n",
       "  table, th, td {\n",
       "    border: 1px solid black;\n",
       "    border-collapse: collapse;\n",
       "  }\n",
       "  th, td {\n",
       "    padding: 5px;\n",
       "  }\n",
       "  th {\n",
       "    text-align: left;\n",
       "  }\n",
       "</style><div class='table-result-container'><table class='table-result'><thead style='background-color: white'><tr><th>seller_id</th><th>order_month</th><th>order_week</th><th>sell_count</th><th>rank</th></tr></thead><tbody><tr><td>3d871de0142ce09b7081e2b9d1733cb1</td><td>1</td><td>1</td><td>56</td><td>1</td></tr><tr><td>955fee9216a65b617aa5c0531780ce60</td><td>1</td><td>1</td><td>52</td><td>2</td></tr><tr><td>8b321bb669392f5163d04c59e235e066</td><td>1</td><td>1</td><td>38</td><td>3</td></tr><tr><td>da8622b14eb17ae2831f4ac5b9dab84a</td><td>1</td><td>1</td><td>38</td><td>3</td></tr><tr><td>ea8482cd71df3c1969d7b9473ff13abc</td><td>1</td><td>1</td><td>32</td><td>5</td></tr><tr><td>128639473a139ac0f3e5f5ade55873a5</td><td>1</td><td>1</td><td>25</td><td>6</td></tr><tr><td>4a3ca9315b744ce9f8e9374361493884</td><td>1</td><td>1</td><td>24</td><td>7</td></tr><tr><td>cc419e0650a3c5ba77189a1882b7556a</td><td>1</td><td>1</td><td>21</td><td>8</td></tr><tr><td>e9779976487b77c6d4ac45f75ec7afe9</td><td>1</td><td>1</td><td>18</td><td>9</td></tr><tr><td>7ddcbb64b5bc1ef36ca8c151f6ec77df</td><td>1</td><td>1</td><td>17</td><td>10</td></tr></tbody></table></div>"
      ]
     },
     "metadata": {
      "application/vnd.databricks.v1+output": {
       "addedWidgets": {},
       "aggData": [],
       "aggError": "",
       "aggOverflow": false,
       "aggSchema": [],
       "aggSeriesLimitReached": false,
       "aggType": "",
       "arguments": {},
       "columnCustomDisplayInfos": {},
       "data": [
        [
         "3d871de0142ce09b7081e2b9d1733cb1",
         1,
         1,
         56,
         1
        ],
        [
         "955fee9216a65b617aa5c0531780ce60",
         1,
         1,
         52,
         2
        ],
        [
         "8b321bb669392f5163d04c59e235e066",
         1,
         1,
         38,
         3
        ],
        [
         "da8622b14eb17ae2831f4ac5b9dab84a",
         1,
         1,
         38,
         3
        ],
        [
         "ea8482cd71df3c1969d7b9473ff13abc",
         1,
         1,
         32,
         5
        ],
        [
         "128639473a139ac0f3e5f5ade55873a5",
         1,
         1,
         25,
         6
        ],
        [
         "4a3ca9315b744ce9f8e9374361493884",
         1,
         1,
         24,
         7
        ],
        [
         "cc419e0650a3c5ba77189a1882b7556a",
         1,
         1,
         21,
         8
        ],
        [
         "e9779976487b77c6d4ac45f75ec7afe9",
         1,
         1,
         18,
         9
        ],
        [
         "7ddcbb64b5bc1ef36ca8c151f6ec77df",
         1,
         1,
         17,
         10
        ]
       ],
       "datasetInfos": [],
       "dbfsResultPath": null,
       "isJsonSchema": true,
       "metadata": {},
       "overflow": false,
       "plotOptions": {
        "customPlotOptions": {},
        "displayType": "table",
        "pivotAggregation": null,
        "pivotColumns": null,
        "xColumns": null,
        "yColumns": null
       },
       "removedWidgets": [],
       "schema": [
        {
         "metadata": "{}",
         "name": "seller_id",
         "type": "\"string\""
        },
        {
         "metadata": "{}",
         "name": "order_month",
         "type": "\"long\""
        },
        {
         "metadata": "{}",
         "name": "order_week",
         "type": "\"long\""
        },
        {
         "metadata": "{}",
         "name": "sell_count",
         "type": "\"long\""
        },
        {
         "metadata": "{}",
         "name": "rank",
         "type": "\"long\""
        }
       ],
       "type": "table"
      }
     },
     "output_type": "display_data"
    }
   ],
   "source": [
    "display(top_sellers_2018.take(10))"
   ]
  },
  {
   "cell_type": "code",
   "execution_count": 0,
   "metadata": {
    "application/vnd.databricks.v1+cell": {
     "inputWidgets": {},
     "nuid": "05472438-c9ef-4053-b117-d928d656fa9a",
     "showTitle": false,
     "title": ""
    }
   },
   "outputs": [
    {
     "data": {
      "text/html": [
       "<style scoped>\n",
       "  .ansiout {\n",
       "    display: block;\n",
       "    unicode-bidi: embed;\n",
       "    white-space: pre-wrap;\n",
       "    word-wrap: break-word;\n",
       "    word-break: break-all;\n",
       "    font-family: \"Source Code Pro\", \"Menlo\", monospace;;\n",
       "    font-size: 13px;\n",
       "    color: #555;\n",
       "    margin-left: 4px;\n",
       "    line-height: 19px;\n",
       "  }\n",
       "</style>\n",
       "<div class=\"ansiout\"></div>"
      ]
     },
     "metadata": {
      "application/vnd.databricks.v1+output": {
       "addedWidgets": {},
       "arguments": {},
       "data": "<div class=\"ansiout\"></div>",
       "datasetInfos": [],
       "metadata": {},
       "removedWidgets": [],
       "type": "html"
      }
     },
     "output_type": "display_data"
    }
   ],
   "source": [
    "top_sellers_2018.createOrReplaceTempView(\"top_sellers_2018_view\")"
   ]
  },
  {
   "cell_type": "code",
   "execution_count": 0,
   "metadata": {
    "application/vnd.databricks.v1+cell": {
     "inputWidgets": {},
     "nuid": "eb2754f0-b6ef-4854-a61c-ce2081565e70",
     "showTitle": false,
     "title": ""
    }
   },
   "outputs": [
    {
     "data": {
      "text/html": [
       "<style scoped>\n",
       "  .table-result-container {\n",
       "    max-height: 300px;\n",
       "    overflow: auto;\n",
       "  }\n",
       "  table, th, td {\n",
       "    border: 1px solid black;\n",
       "    border-collapse: collapse;\n",
       "  }\n",
       "  th, td {\n",
       "    padding: 5px;\n",
       "  }\n",
       "  th {\n",
       "    text-align: left;\n",
       "  }\n",
       "</style><div class='table-result-container'><table class='table-result'><thead style='background-color: white'><tr><th>seller_id</th><th>order_month</th><th>order_week</th><th>sell_count</th><th>rank</th></tr></thead><tbody><tr><td>3d871de0142ce09b7081e2b9d1733cb1</td><td>1</td><td>1</td><td>56</td><td>1</td></tr><tr><td>3d871de0142ce09b7081e2b9d1733cb1</td><td>1</td><td>2</td><td>77</td><td>1</td></tr><tr><td>955fee9216a65b617aa5c0531780ce60</td><td>1</td><td>3</td><td>86</td><td>1</td></tr><tr><td>da8622b14eb17ae2831f4ac5b9dab84a</td><td>1</td><td>4</td><td>48</td><td>1</td></tr><tr><td>ea8482cd71df3c1969d7b9473ff13abc</td><td>1</td><td>5</td><td>24</td><td>1</td></tr><tr><td>8b321bb669392f5163d04c59e235e066</td><td>2</td><td>5</td><td>27</td><td>1</td></tr><tr><td>1f50f920176fa81dab994f9023523100</td><td>2</td><td>6</td><td>56</td><td>1</td></tr><tr><td>1f50f920176fa81dab994f9023523100</td><td>2</td><td>7</td><td>65</td><td>1</td></tr><tr><td>8b321bb669392f5163d04c59e235e066</td><td>2</td><td>8</td><td>46</td><td>1</td></tr><tr><td>955fee9216a65b617aa5c0531780ce60</td><td>2</td><td>9</td><td>33</td><td>1</td></tr></tbody></table></div>"
      ]
     },
     "metadata": {
      "application/vnd.databricks.v1+output": {
       "addedWidgets": {},
       "aggData": [],
       "aggError": "",
       "aggOverflow": false,
       "aggSchema": [],
       "aggSeriesLimitReached": false,
       "aggType": "",
       "arguments": {},
       "columnCustomDisplayInfos": {},
       "data": [
        [
         "3d871de0142ce09b7081e2b9d1733cb1",
         1,
         1,
         56,
         1
        ],
        [
         "3d871de0142ce09b7081e2b9d1733cb1",
         1,
         2,
         77,
         1
        ],
        [
         "955fee9216a65b617aa5c0531780ce60",
         1,
         3,
         86,
         1
        ],
        [
         "da8622b14eb17ae2831f4ac5b9dab84a",
         1,
         4,
         48,
         1
        ],
        [
         "ea8482cd71df3c1969d7b9473ff13abc",
         1,
         5,
         24,
         1
        ],
        [
         "8b321bb669392f5163d04c59e235e066",
         2,
         5,
         27,
         1
        ],
        [
         "1f50f920176fa81dab994f9023523100",
         2,
         6,
         56,
         1
        ],
        [
         "1f50f920176fa81dab994f9023523100",
         2,
         7,
         65,
         1
        ],
        [
         "8b321bb669392f5163d04c59e235e066",
         2,
         8,
         46,
         1
        ],
        [
         "955fee9216a65b617aa5c0531780ce60",
         2,
         9,
         33,
         1
        ]
       ],
       "datasetInfos": [],
       "dbfsResultPath": null,
       "isJsonSchema": true,
       "metadata": {},
       "overflow": false,
       "plotOptions": {
        "customPlotOptions": {},
        "displayType": "table",
        "pivotAggregation": null,
        "pivotColumns": null,
        "xColumns": null,
        "yColumns": null
       },
       "removedWidgets": [],
       "schema": [
        {
         "metadata": "{}",
         "name": "seller_id",
         "type": "\"string\""
        },
        {
         "metadata": "{}",
         "name": "order_month",
         "type": "\"integer\""
        },
        {
         "metadata": "{}",
         "name": "order_week",
         "type": "\"integer\""
        },
        {
         "metadata": "{}",
         "name": "sell_count",
         "type": "\"long\""
        },
        {
         "metadata": "{}",
         "name": "rank",
         "type": "\"integer\""
        }
       ],
       "type": "table"
      }
     },
     "output_type": "display_data"
    }
   ],
   "source": [
    "%sql\n",
    "SELECT * FROM top_sellers_2018_view\n",
    "WHERE rank<2\n",
    "LIMIT 10"
   ]
  },
  {
   "cell_type": "code",
   "execution_count": 0,
   "metadata": {
    "application/vnd.databricks.v1+cell": {
     "inputWidgets": {},
     "nuid": "ba8834e7-1628-4cae-a5e0-53bc092205c9",
     "showTitle": false,
     "title": ""
    }
   },
   "outputs": [],
   "source": []
  }
 ],
 "metadata": {
  "application/vnd.databricks.v1+notebook": {
   "dashboards": [],
   "language": "python",
   "notebookMetadata": {
    "pythonIndentUnit": 4
   },
   "notebookName": "top products and sellers",
   "notebookOrigID": 2165836139942217,
   "widgets": {}
  },
  "kernelspec": {
   "display_name": "Python 3 (ipykernel)",
   "language": "python",
   "name": "python3"
  },
  "language_info": {
   "codemirror_mode": {
    "name": "ipython",
    "version": 3
   },
   "file_extension": ".py",
   "mimetype": "text/x-python",
   "name": "python",
   "nbconvert_exporter": "python",
   "pygments_lexer": "ipython3",
   "version": "3.9.6"
  }
 },
 "nbformat": 4,
 "nbformat_minor": 1
}
